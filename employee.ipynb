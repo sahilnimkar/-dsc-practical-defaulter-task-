{
 "cells": [
  {
   "cell_type": "code",
   "execution_count": 1,
   "metadata": {},
   "outputs": [],
   "source": [
    "import pandas as pd\n",
    "import numpy as np\n",
    "from sklearn.model_selection import train_test_split\n",
    "from sklearn.preprocessing import LabelEncoder\n",
    "from sklearn.tree import DecisionTreeClassifier\n",
    "from sklearn.ensemble import RandomForestClassifier\n",
    "from sklearn.metrics import classification_report, confusion_matrix, accuracy_score\n",
    "import matplotlib.pyplot as plt\n",
    "import seaborn as sns"
   ]
  },
  {
   "cell_type": "code",
   "execution_count": 3,
   "metadata": {},
   "outputs": [],
   "source": [
    "file_path = r\"C:\\Users\\Student\\Desktop\\employee churn\\Employee.csv\"  # Updated file path\n",
    "data = pd.read_csv(file_path)\n"
   ]
  },
  {
   "cell_type": "code",
   "execution_count": 4,
   "metadata": {},
   "outputs": [
    {
     "name": "stdout",
     "output_type": "stream",
     "text": [
      "First 5 rows of the dataset:\n",
      "   Education  JoiningYear       City  PaymentTier  Age  Gender EverBenched  \\\n",
      "0  Bachelors         2017  Bangalore            3   34    Male          No   \n",
      "1  Bachelors         2013       Pune            1   28  Female          No   \n",
      "2  Bachelors         2014  New Delhi            3   38  Female          No   \n",
      "3    Masters         2016  Bangalore            3   27    Male          No   \n",
      "4    Masters         2017       Pune            3   24    Male         Yes   \n",
      "\n",
      "   ExperienceInCurrentDomain  LeaveOrNot  \n",
      "0                          0           0  \n",
      "1                          3           1  \n",
      "2                          2           0  \n",
      "3                          5           1  \n",
      "4                          2           1  \n",
      "\n",
      "Info about the dataset:\n",
      "<class 'pandas.core.frame.DataFrame'>\n",
      "RangeIndex: 4653 entries, 0 to 4652\n",
      "Data columns (total 9 columns):\n",
      " #   Column                     Non-Null Count  Dtype \n",
      "---  ------                     --------------  ----- \n",
      " 0   Education                  4653 non-null   object\n",
      " 1   JoiningYear                4653 non-null   int64 \n",
      " 2   City                       4653 non-null   object\n",
      " 3   PaymentTier                4653 non-null   int64 \n",
      " 4   Age                        4653 non-null   int64 \n",
      " 5   Gender                     4653 non-null   object\n",
      " 6   EverBenched                4653 non-null   object\n",
      " 7   ExperienceInCurrentDomain  4653 non-null   int64 \n",
      " 8   LeaveOrNot                 4653 non-null   int64 \n",
      "dtypes: int64(5), object(4)\n",
      "memory usage: 327.3+ KB\n",
      "None\n",
      "\n",
      "Statistical description of the dataset:\n",
      "       JoiningYear  PaymentTier          Age  ExperienceInCurrentDomain  \\\n",
      "count  4653.000000  4653.000000  4653.000000                4653.000000   \n",
      "mean   2015.062970     2.698259    29.393295                   2.905652   \n",
      "std       1.863377     0.561435     4.826087                   1.558240   \n",
      "min    2012.000000     1.000000    22.000000                   0.000000   \n",
      "25%    2013.000000     3.000000    26.000000                   2.000000   \n",
      "50%    2015.000000     3.000000    28.000000                   3.000000   \n",
      "75%    2017.000000     3.000000    32.000000                   4.000000   \n",
      "max    2018.000000     3.000000    41.000000                   7.000000   \n",
      "\n",
      "        LeaveOrNot  \n",
      "count  4653.000000  \n",
      "mean      0.343864  \n",
      "std       0.475047  \n",
      "min       0.000000  \n",
      "25%       0.000000  \n",
      "50%       0.000000  \n",
      "75%       1.000000  \n",
      "max       1.000000  \n",
      "\n",
      "Missing values in each column:\n",
      "Education                    0\n",
      "JoiningYear                  0\n",
      "City                         0\n",
      "PaymentTier                  0\n",
      "Age                          0\n",
      "Gender                       0\n",
      "EverBenched                  0\n",
      "ExperienceInCurrentDomain    0\n",
      "LeaveOrNot                   0\n",
      "dtype: int64\n"
     ]
    }
   ],
   "source": [
    "print(\"First 5 rows of the dataset:\")\n",
    "print(data.head())\n",
    "print(\"\\nInfo about the dataset:\")\n",
    "print(data.info())\n",
    "print(\"\\nStatistical description of the dataset:\")\n",
    "print(data.describe())\n",
    "print(\"\\nMissing values in each column:\")\n",
    "print(data.isnull().sum())"
   ]
  },
  {
   "cell_type": "code",
   "execution_count": 9,
   "metadata": {},
   "outputs": [
    {
     "name": "stdout",
     "output_type": "stream",
     "text": [
      "Column names in the dataset:\n",
      "Index(['Education', 'JoiningYear', 'City', 'PaymentTier', 'Age', 'Gender',\n",
      "       'EverBenched', 'ExperienceInCurrentDomain', 'LeaveOrNot'],\n",
      "      dtype='object')\n"
     ]
    }
   ],
   "source": [
    "# Step 2: Load the Dataset\n",
    "file_path = r\"C:\\Users\\Student\\Desktop\\employee churn\\Employee.csv\"  # Updated file path\n",
    "data = pd.read_csv(file_path)\n",
    "\n",
    "# Print column names to find the correct target column\n",
    "print(\"Column names in the dataset:\")\n",
    "print(data.columns)\n",
    "\n",
    "# Specify the actual target column name based on your previous output\n",
    "target_column_name = 'EverBenched'  # Replace this with the correct name you found\n",
    "\n",
    "# Now define features (X) and target (y)\n",
    "X = data.drop(columns=[target_column_name])\n",
    "y = data[target_column_name]"
   ]
  },
  {
   "cell_type": "code",
   "execution_count": 10,
   "metadata": {},
   "outputs": [
    {
     "name": "stdout",
     "output_type": "stream",
     "text": [
      "Features (X) and target (y) defined successfully.\n"
     ]
    }
   ],
   "source": [
    "try:\n",
    "    X = data.drop(columns=[target_column_name])\n",
    "    y = data[target_column_name]\n",
    "\n",
    "    print(\"Features (X) and target (y) defined successfully.\")\n",
    "except KeyError as e:\n",
    "    print(f\"KeyError: {e}. Please check if '{target_column_name}' exists in the DataFrame.\")"
   ]
  },
  {
   "cell_type": "code",
   "execution_count": 12,
   "metadata": {},
   "outputs": [
    {
     "name": "stdout",
     "output_type": "stream",
     "text": [
      "Training set size: 3257, Test set size: 1396\n"
     ]
    }
   ],
   "source": [
    "# Handle categorical variables\n",
    "X = pd.get_dummies(X)  # Converts categorical columns to dummy variables\n",
    "\n",
    "# Split the data\n",
    "X_train, X_test, y_train, y_test = train_test_split(X, y, test_size=0.3, random_state=42)\n",
    "\n",
    "# Verify the dimensions of the training and test sets\n",
    "print(f\"Training set size: {X_train.shape[0]}, Test set size: {X_test.shape[0]}\")"
   ]
  },
  {
   "cell_type": "code",
   "execution_count": 13,
   "metadata": {},
   "outputs": [
    {
     "name": "stdout",
     "output_type": "stream",
     "text": [
      "Decision Tree Classifier Evaluation:\n",
      "Accuracy: 0.8524355300859598\n",
      "Classification Report:\n",
      "              precision    recall  f1-score   support\n",
      "\n",
      "          No       0.89      0.95      0.92      1237\n",
      "         Yes       0.19      0.09      0.12       159\n",
      "\n",
      "    accuracy                           0.85      1396\n",
      "   macro avg       0.54      0.52      0.52      1396\n",
      "weighted avg       0.81      0.85      0.83      1396\n",
      "\n",
      "Confusion Matrix:\n",
      "[[1176   61]\n",
      " [ 145   14]]\n"
     ]
    }
   ],
   "source": [
    "# Initialize and train the Decision Tree classifier\n",
    "dt_classifier = DecisionTreeClassifier(random_state=42)\n",
    "dt_classifier.fit(X_train, y_train)\n",
    "\n",
    "# Make predictions\n",
    "dt_predictions = dt_classifier.predict(X_test)\n",
    "\n",
    "# Evaluate the model\n",
    "print(\"Decision Tree Classifier Evaluation:\")\n",
    "print(f\"Accuracy: {accuracy_score(y_test, dt_predictions)}\")\n",
    "print(\"Classification Report:\")\n",
    "print(classification_report(y_test, dt_predictions))\n",
    "print(\"Confusion Matrix:\")\n",
    "print(confusion_matrix(y_test, dt_predictions))"
   ]
  },
  {
   "cell_type": "code",
   "execution_count": 14,
   "metadata": {},
   "outputs": [
    {
     "name": "stdout",
     "output_type": "stream",
     "text": [
      "Random Forest Classifier Evaluation:\n",
      "Accuracy: 0.8681948424068768\n",
      "Classification Report:\n",
      "              precision    recall  f1-score   support\n",
      "\n",
      "          No       0.89      0.97      0.93      1237\n",
      "         Yes       0.23      0.07      0.11       159\n",
      "\n",
      "    accuracy                           0.87      1396\n",
      "   macro avg       0.56      0.52      0.52      1396\n",
      "weighted avg       0.82      0.87      0.84      1396\n",
      "\n",
      "Confusion Matrix:\n",
      "[[1201   36]\n",
      " [ 148   11]]\n"
     ]
    }
   ],
   "source": [
    "# Initialize and train the Random Forest classifier\n",
    "rf_classifier = RandomForestClassifier(random_state=42)\n",
    "rf_classifier.fit(X_train, y_train)\n",
    "\n",
    "# Make predictions\n",
    "rf_predictions = rf_classifier.predict(X_test)\n",
    "\n",
    "# Evaluate the model\n",
    "print(\"Random Forest Classifier Evaluation:\")\n",
    "print(f\"Accuracy: {accuracy_score(y_test, rf_predictions)}\")\n",
    "print(\"Classification Report:\")\n",
    "print(classification_report(y_test, rf_predictions))\n",
    "print(\"Confusion Matrix:\")\n",
    "print(confusion_matrix(y_test, rf_predictions))"
   ]
  }
 ],
 "metadata": {
  "kernelspec": {
   "display_name": "Python 3",
   "language": "python",
   "name": "python3"
  },
  "language_info": {
   "codemirror_mode": {
    "name": "ipython",
    "version": 3
   },
   "file_extension": ".py",
   "mimetype": "text/x-python",
   "name": "python",
   "nbconvert_exporter": "python",
   "pygments_lexer": "ipython3",
   "version": "3.11.1"
  }
 },
 "nbformat": 4,
 "nbformat_minor": 2
}
